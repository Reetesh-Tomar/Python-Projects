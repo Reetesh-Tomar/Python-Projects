{
 "cells": [
  {
   "cell_type": "markdown",
   "metadata": {},
   "source": [
    "# Flip a Coin"
   ]
  },
  {
   "cell_type": "code",
   "execution_count": 1,
   "metadata": {},
   "outputs": [],
   "source": [
    "from random import randint"
   ]
  },
  {
   "cell_type": "code",
   "execution_count": 3,
   "metadata": {},
   "outputs": [
    {
     "name": "stdout",
     "output_type": "stream",
     "text": [
      "FLIP A COIN\n",
      "\n",
      "\n",
      "chose if heads or tails   : t\n",
      "\n",
      "\n",
      "player chose t\n",
      "it is  heads\n",
      "\n",
      "\n",
      "computer wins\n"
     ]
    }
   ],
   "source": [
    "print(\"FLIP A COIN\")\n",
    "print(\"\\n\")\n",
    "p=input(\"chose if heads or tails   : \")\n",
    "print(\"\\n\")\n",
    "print(\"player chose\",p)\n",
    "\n",
    "chose=randint(1,2)\n",
    "\n",
    "if chose ==1:\n",
    "    comp=\"heads\"\n",
    "\n",
    "elif chose==2:\n",
    "    comp=\"tails\"\n",
    "    \n",
    "else:\n",
    "    print(\"wrong input\")\n",
    "    \n",
    "print(\"it is \",comp)\n",
    "print(\"\\n\")\n",
    "    \n",
    "if p==comp:\n",
    "    print(\"player wins\")\n",
    "    \n",
    "else:\n",
    "    print(\"computer wins\")\n",
    "    "
   ]
  },
  {
   "cell_type": "code",
   "execution_count": null,
   "metadata": {},
   "outputs": [],
   "source": []
  }
 ],
 "metadata": {
  "kernelspec": {
   "display_name": "Python 3",
   "language": "python",
   "name": "python3"
  },
  "language_info": {
   "codemirror_mode": {
    "name": "ipython",
    "version": 3
   },
   "file_extension": ".py",
   "mimetype": "text/x-python",
   "name": "python",
   "nbconvert_exporter": "python",
   "pygments_lexer": "ipython3",
   "version": "3.6.4"
  }
 },
 "nbformat": 4,
 "nbformat_minor": 2
}
